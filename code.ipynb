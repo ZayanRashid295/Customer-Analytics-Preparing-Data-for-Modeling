{
 "cells": [
  {
   "cell_type": "code",
   "execution_count": 1,
   "id": "1cf2e8ae-a46a-4186-aa85-d18bac418c46",
   "metadata": {},
   "outputs": [],
   "source": [
    "import pandas as pd\n",
    "\n",
    "# Load the dataset\n",
    "ds_jobs = pd.read_csv(\"E:\\Desktop/customer_train.csv\")\n",
    "\n",
    "# Copy the DataFrame for cleaning\n",
    "ds_jobs_clean = ds_jobs.copy()\n",
    "\n",
    "# Create a dictionary of columns containing ordered categorical data\n",
    "ordered_cats = {\n",
    "    'relevant_experience': ['No relevant experience', 'Has relevant experience'],\n",
    "    'enrolled_university': ['no_enrollment', 'Part time course', 'Full time course'],\n",
    "    'education_level': ['Primary School', 'High School', 'Graduate', 'Masters', 'Phd'],\n",
    "    'experience': ['<1'] + list(map(str, range(1, 21))) + ['>20'],\n",
    "    'company_size': ['<10', '10-49', '50-99', '100-499', '500-999', '1000-4999', '5000-9999', '10000+'],\n",
    "    'last_new_job': ['never', '1', '2', '3', '4', '>4']\n",
    "}\n",
    "\n",
    "# Loop through DataFrame columns to efficiently change data types\n",
    "for col in ds_jobs_clean:\n",
    "    \n",
    "    # Convert integer columns to int32\n",
    "    if ds_jobs_clean[col].dtype == 'int':\n",
    "        ds_jobs_clean[col] = ds_jobs_clean[col].astype('int32')\n",
    "    \n",
    "    # Convert float columns to float16\n",
    "    elif ds_jobs_clean[col].dtype == 'float':\n",
    "        ds_jobs_clean[col] = ds_jobs_clean[col].astype('float16')\n",
    "    \n",
    "    # Convert columns containing ordered categorical data to ordered categories using dict\n",
    "    elif col in ordered_cats.keys():\n",
    "        category = pd.CategoricalDtype(ordered_cats[col], ordered=True)\n",
    "        ds_jobs_clean[col] = ds_jobs_clean[col].astype(category)\n",
    "    \n",
    "    # Convert remaining columns to standard categories\n",
    "    else:\n",
    "        ds_jobs_clean[col] = ds_jobs_clean[col].astype('category')\n",
    "        \n",
    "# Filter students with 10 or more years experience at companies with at least 1000 employees\n",
    "ds_jobs_clean = ds_jobs_clean[(ds_jobs_clean['experience'] >= '10') & (ds_jobs_clean['company_size'] >= '1000-4999')]\n"
   ]
  },
  {
   "cell_type": "code",
   "execution_count": null,
   "id": "99be15be-ba54-487b-9fe9-d3d35c24f91c",
   "metadata": {},
   "outputs": [],
   "source": []
  }
 ],
 "metadata": {
  "kernelspec": {
   "display_name": "Python 3 (ipykernel)",
   "language": "python",
   "name": "python3"
  },
  "language_info": {
   "codemirror_mode": {
    "name": "ipython",
    "version": 3
   },
   "file_extension": ".py",
   "mimetype": "text/x-python",
   "name": "python",
   "nbconvert_exporter": "python",
   "pygments_lexer": "ipython3",
   "version": "3.11.4"
  }
 },
 "nbformat": 4,
 "nbformat_minor": 5
}
